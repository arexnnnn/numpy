{
 "cells": [
  {
   "cell_type": "code",
   "execution_count": 1,
   "id": "ac830379-44a1-4c3e-b21a-257aeaea0e4e",
   "metadata": {
    "tags": []
   },
   "outputs": [],
   "source": [
    "a=6 "
   ]
  },
  {
   "cell_type": "code",
   "execution_count": 2,
   "id": "8f55e705-1da0-4f34-8ccd-124468b56e26",
   "metadata": {
    "tags": []
   },
   "outputs": [],
   "source": [
    "a=8"
   ]
  },
  {
   "cell_type": "code",
   "execution_count": 3,
   "id": "5d719044-efcd-4399-abd1-a40a9a20474c",
   "metadata": {
    "tags": []
   },
   "outputs": [],
   "source": [
    "import numpy as np"
   ]
  },
  {
   "cell_type": "code",
   "execution_count": 4,
   "id": "ef4dc3ee-d4c3-4093-970e-d06fcbd73b97",
   "metadata": {
    "tags": []
   },
   "outputs": [],
   "source": [
    "it = [3,5,7,11]"
   ]
  },
  {
   "cell_type": "code",
   "execution_count": 5,
   "id": "1b99af1d-b8c9-46bb-9ae5-d519172d4af1",
   "metadata": {
    "tags": []
   },
   "outputs": [],
   "source": [
    "n = np.array(it)"
   ]
  },
  {
   "cell_type": "code",
   "execution_count": 6,
   "id": "37ca1190-2ddf-4937-8d94-767f7ced51a6",
   "metadata": {
    "tags": []
   },
   "outputs": [
    {
     "data": {
      "text/plain": [
       "array([ 3,  5,  7, 11])"
      ]
     },
     "execution_count": 6,
     "metadata": {},
     "output_type": "execute_result"
    }
   ],
   "source": [
    "n"
   ]
  },
  {
   "cell_type": "code",
   "execution_count": 7,
   "id": "44680f54-86e8-4219-8d5f-5bce637027b5",
   "metadata": {
    "tags": []
   },
   "outputs": [
    {
     "data": {
      "text/plain": [
       "numpy.ndarray"
      ]
     },
     "execution_count": 7,
     "metadata": {},
     "output_type": "execute_result"
    }
   ],
   "source": [
    "type(n)"
   ]
  },
  {
   "cell_type": "code",
   "execution_count": 9,
   "id": "cd4f06cf-1233-4aa4-aeee-9ec9cd33b6be",
   "metadata": {
    "tags": []
   },
   "outputs": [
    {
     "data": {
      "text/plain": [
       "array({2, 5, 7}, dtype=object)"
      ]
     },
     "execution_count": 9,
     "metadata": {},
     "output_type": "execute_result"
    }
   ],
   "source": [
    "np.array({2,5,7})"
   ]
  },
  {
   "cell_type": "code",
   "execution_count": 16,
   "id": "4b151606-ac7e-4298-935f-892e1c4173d0",
   "metadata": {
    "tags": []
   },
   "outputs": [
    {
     "data": {
      "text/plain": [
       "array([[1, 2],\n",
       "       [4, 5]])"
      ]
     },
     "execution_count": 16,
     "metadata": {},
     "output_type": "execute_result"
    }
   ],
   "source": [
    "twod = np.array([[1,2],[4,5]])\n",
    "twod"
   ]
  },
  {
   "cell_type": "code",
   "execution_count": 15,
   "id": "901faf92-8b43-4196-ae30-c74f92a029d3",
   "metadata": {
    "tags": []
   },
   "outputs": [
    {
     "data": {
      "text/plain": [
       "array(['2', '5', '7', '11'], dtype='<U21')"
      ]
     },
     "execution_count": 15,
     "metadata": {},
     "output_type": "execute_result"
    }
   ],
   "source": [
    "unicode = np.array([2,5,7,\"11\"])\n",
    "unicode"
   ]
  },
  {
   "cell_type": "code",
   "execution_count": 18,
   "id": "73827539-a86a-471e-a65e-7fd9994ecd8a",
   "metadata": {
    "tags": []
   },
   "outputs": [
    {
     "data": {
      "text/plain": [
       "[7, 9, 11, 13]"
      ]
     },
     "execution_count": 18,
     "metadata": {},
     "output_type": "execute_result"
    }
   ],
   "source": [
    "list(range(7,15,2))"
   ]
  },
  {
   "cell_type": "code",
   "execution_count": 19,
   "id": "d404237f-78ac-4768-bd7f-e888cd3eee09",
   "metadata": {
    "tags": []
   },
   "outputs": [
    {
     "data": {
      "text/plain": [
       "array([ 7,  9, 11, 13])"
      ]
     },
     "execution_count": 19,
     "metadata": {},
     "output_type": "execute_result"
    }
   ],
   "source": [
    "np.arange(7,15,2)"
   ]
  },
  {
   "cell_type": "code",
   "execution_count": 21,
   "id": "83b0e288-62e7-40fe-93ca-a5ad041a308c",
   "metadata": {
    "tags": []
   },
   "outputs": [
    {
     "data": {
      "text/plain": [
       "array([[ 0,  1,  2,  3,  4,  5,  6],\n",
       "       [ 7,  8,  9, 10, 11, 12, 13],\n",
       "       [14, 15, 16, 17, 18, 19, 20],\n",
       "       [21, 22, 23, 24, 25, 26, 27],\n",
       "       [28, 29, 30, 31, 32, 33, 34],\n",
       "       [35, 36, 37, 38, 39, 40, 41],\n",
       "       [42, 43, 44, 45, 46, 47, 48]])"
      ]
     },
     "execution_count": 21,
     "metadata": {},
     "output_type": "execute_result"
    }
   ],
   "source": [
    "np.arange(49).reshape(7,7)"
   ]
  },
  {
   "cell_type": "code",
   "execution_count": 23,
   "id": "d1279768-09f0-4df0-bf51-b2b737b34207",
   "metadata": {
    "tags": []
   },
   "outputs": [],
   "source": [
    "arr1 = np.arange(100)"
   ]
  },
  {
   "cell_type": "code",
   "execution_count": 24,
   "id": "60e8c3dd-9988-482b-85fb-397e93e091dc",
   "metadata": {
    "tags": []
   },
   "outputs": [],
   "source": [
    "arr2 = arr1.reshape(10,10)"
   ]
  },
  {
   "cell_type": "code",
   "execution_count": 25,
   "id": "675794bd-d727-4121-88fa-797b182d47ec",
   "metadata": {
    "tags": []
   },
   "outputs": [
    {
     "data": {
      "text/plain": [
       "array([ 0,  1,  2,  3,  4,  5,  6,  7,  8,  9, 10, 11, 12, 13, 14, 15, 16,\n",
       "       17, 18, 19, 20, 21, 22, 23, 24, 25, 26, 27, 28, 29, 30, 31, 32, 33,\n",
       "       34, 35, 36, 37, 38, 39, 40, 41, 42, 43, 44, 45, 46, 47, 48, 49, 50,\n",
       "       51, 52, 53, 54, 55, 56, 57, 58, 59, 60, 61, 62, 63, 64, 65, 66, 67,\n",
       "       68, 69, 70, 71, 72, 73, 74, 75, 76, 77, 78, 79, 80, 81, 82, 83, 84,\n",
       "       85, 86, 87, 88, 89, 90, 91, 92, 93, 94, 95, 96, 97, 98, 99])"
      ]
     },
     "execution_count": 25,
     "metadata": {},
     "output_type": "execute_result"
    }
   ],
   "source": [
    "arr1"
   ]
  },
  {
   "cell_type": "code",
   "execution_count": 28,
   "id": "ae249cfb-0839-43c0-a802-198f73fad635",
   "metadata": {
    "tags": []
   },
   "outputs": [],
   "source": [
    "arr1[0] = 1000"
   ]
  },
  {
   "cell_type": "code",
   "execution_count": 29,
   "id": "f8e2952c-4af1-4a0c-8c21-76876de96737",
   "metadata": {
    "tags": []
   },
   "outputs": [
    {
     "data": {
      "text/plain": [
       "array([[1000,    1,    2,    3,    4,    5,    6,    7,    8,    9],\n",
       "       [  10,   11,   12,   13,   14,   15,   16,   17,   18,   19],\n",
       "       [  20,   21,   22,   23,   24,   25,   26,   27,   28,   29],\n",
       "       [  30,   31,   32,   33,   34,   35,   36,   37,   38,   39],\n",
       "       [  40,   41,   42,   43,   44,   45,   46,   47,   48,   49],\n",
       "       [  50,   51,   52,   53,   54,   55,   56,   57,   58,   59],\n",
       "       [  60,   61,   62,   63,   64,   65,   66,   67,   68,   69],\n",
       "       [  70,   71,   72,   73,   74,   75,   76,   77,   78,   79],\n",
       "       [  80,   81,   82,   83,   84,   85,   86,   87,   88,   89],\n",
       "       [  90,   91,   92,   93,   94,   95,   96,   97,   98,   99]])"
      ]
     },
     "execution_count": 29,
     "metadata": {},
     "output_type": "execute_result"
    }
   ],
   "source": [
    "arr2"
   ]
  },
  {
   "cell_type": "code",
   "execution_count": null,
   "id": "91119c94-5c7b-4ca3-8618-51d88c64fa11",
   "metadata": {},
   "outputs": [],
   "source": []
  }
 ],
 "metadata": {
  "kernelspec": {
   "display_name": "Python 3 (ipykernel)",
   "language": "python",
   "name": "python3"
  },
  "language_info": {
   "codemirror_mode": {
    "name": "ipython",
    "version": 3
   },
   "file_extension": ".py",
   "mimetype": "text/x-python",
   "name": "python",
   "nbconvert_exporter": "python",
   "pygments_lexer": "ipython3",
   "version": "3.10.9"
  }
 },
 "nbformat": 4,
 "nbformat_minor": 5
}
